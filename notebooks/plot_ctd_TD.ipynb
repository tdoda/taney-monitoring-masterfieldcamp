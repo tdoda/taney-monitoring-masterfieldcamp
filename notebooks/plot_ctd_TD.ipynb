{
 "cells": [
  {
   "cell_type": "markdown",
   "id": "a51735a4-4a25-49ba-9583-99ef1d1c9f22",
   "metadata": {},
   "source": [
    "# Plot CTD data "
   ]
  },
  {
   "cell_type": "code",
   "execution_count": 1,
   "id": "bb0e43fa",
   "metadata": {},
   "outputs": [],
   "source": [
    "import os\n",
    "import netCDF4\n",
    "import numpy as np\n",
    "import pandas as pd\n",
    "import matplotlib.pyplot as plt\n",
    "import matplotlib.colors as mcol\n",
    "from scipy.interpolate import interp1d\n",
    "from datetime import datetime\n",
    "import cmocean\n",
    "\n",
    "\n",
    "%matplotlib widget "
   ]
  },
  {
   "cell_type": "markdown",
   "id": "c72b6ddc-504b-448a-a5d4-898b27545168",
   "metadata": {},
   "source": [
    "### Parameters"
   ]
  },
  {
   "cell_type": "markdown",
   "id": "8127041a",
   "metadata": {},
   "source": [
    "Specify the path to the data folder and the date of the campaign:"
   ]
  },
  {
   "cell_type": "code",
   "execution_count": 2,
   "id": "db322471-1dd0-4275-a93a-7aab1410fb8c",
   "metadata": {},
   "outputs": [],
   "source": [
    "data_folder='../data/Profiles/RBR_237207'\n",
    "date_campaign='20250605'\n",
    "filenames=[\"L2_CTD_rbr_237207_20250605_1136_20250605_100637.nc\"]"
   ]
  },
  {
   "cell_type": "markdown",
   "id": "237368a6-d7d5-4767-8d48-2cb2fd2a7cdd",
   "metadata": {},
   "source": [
    "Parameters of the plot"
   ]
  },
  {
   "cell_type": "code",
   "execution_count": 16,
   "id": "c0da6bcb-1b54-4293-96ea-0a3874ae0202",
   "metadata": {},
   "outputs": [],
   "source": [
    "varnames=[\"Temp\",\"Cond\",\"sat\"]\n",
    "dz_top=0.5 # [m], to remove near the surface\n",
    "dz_bot=0.5 # [m], to remove at the bottom\n",
    "ctd_data=[]"
   ]
  },
  {
   "cell_type": "markdown",
   "id": "65314b03-a75f-4ece-a5f0-771ca15b69f6",
   "metadata": {},
   "source": [
    "### Load the Level-2 data "
   ]
  },
  {
   "cell_type": "code",
   "execution_count": 17,
   "id": "430734d0-4176-44a8-8865-9889f64664b2",
   "metadata": {},
   "outputs": [],
   "source": [
    "for k,file in enumerate(filenames):\n",
    "    nc=netCDF4.Dataset(os.path.join(data_folder,date_campaign,'Level2',file)) \n",
    "    time_num=nc.variables[\"time\"][:].data\n",
    "    time_date=time_num.astype(\"datetime64[s]\").astype(datetime)\n",
    "    dict_ctd={\"filename\":file,\"xcoord\":getattr(nc, 'X Coordinate (CH1903)') ,\"ycoord\":getattr(nc, 'Y Coordinate (CH1903)') ,\n",
    "              \"time_start\":time_date[0],\"depth\":nc.variables[\"depth\"][:].data,\"time_num\":time_num,\"time_date\":time_date}\n",
    "    \n",
    "    for kv in range(len(varnames)): \n",
    "        vardata=nc.variables[varnames[kv]][:].data\n",
    "        if varnames[kv]+\"_qual\" in nc.variables:\n",
    "            vardata[nc.variables[varnames[kv]+\"_qual\"][:]>0]=np.nan\n",
    "        vardata[dict_ctd[\"depth\"]<dz_top]=np.nan\n",
    "        vardata[dict_ctd[\"depth\"]>(np.nanmax(dict_ctd[\"depth\"])-dz_bot)]=np.nan\n",
    "    ctd_data.append(dict_ctd)\n",
    "    nc.close()"
   ]
  }
 ],
 "metadata": {
  "kernelspec": {
   "display_name": "Python 3 (ipykernel)",
   "language": "python",
   "name": "python3"
  },
  "language_info": {
   "codemirror_mode": {
    "name": "ipython",
    "version": 3
   },
   "file_extension": ".py",
   "mimetype": "text/x-python",
   "name": "python",
   "nbconvert_exporter": "python",
   "pygments_lexer": "ipython3",
   "version": "3.11.10"
  },
  "widgets": {
   "application/vnd.jupyter.widget-state+json": {
    "state": {},
    "version_major": 2,
    "version_minor": 0
   }
  }
 },
 "nbformat": 4,
 "nbformat_minor": 5
}
